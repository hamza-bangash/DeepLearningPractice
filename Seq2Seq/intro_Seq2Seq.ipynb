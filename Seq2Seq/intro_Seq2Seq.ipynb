{
 "cells": [
  {
   "cell_type": "markdown",
   "id": "7164a2a4",
   "metadata": {},
   "source": [
    "# **Seq2Seq**"
   ]
  },
  {
   "cell_type": "markdown",
   "id": "dcb078bc",
   "metadata": {},
   "source": [
    "Its a RNN type which take sequence input and give  sequence output , its asynchronous means different size input and output\n",
    "\n",
    "A Sequence-to-Sequence  model is a neural network architecture designed to transform an input sequence into an output sequence, of a different length."
   ]
  },
  {
   "cell_type": "markdown",
   "id": "035d4e78",
   "metadata": {},
   "source": [
    "## History of Seq2Seq Modles"
   ]
  },
  {
   "cell_type": "markdown",
   "id": "08f44033",
   "metadata": {},
   "source": [
    "Here are the STEPS or stages to \n",
    "\n",
    "    -Stage1: Encoder and Deconder \n",
    "    -Stage2: Attention\n",
    "    -Stage3: Transformer\n",
    "    -Stage4: Transfer Learning\n",
    "    -Stage5: LLMS"
   ]
  }
 ],
 "metadata": {
  "language_info": {
   "name": "python"
  }
 },
 "nbformat": 4,
 "nbformat_minor": 5
}
