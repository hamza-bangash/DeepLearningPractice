{
 "cells": [
  {
   "cell_type": "markdown",
   "id": "6be5bf44",
   "metadata": {},
   "source": [
    "# **Attention Mechanism**"
   ]
  },
  {
   "cell_type": "markdown",
   "id": "bf15a1e9",
   "metadata": {},
   "source": [
    "## Why we Need Attention"
   ]
  },
  {
   "cell_type": "markdown",
   "id": "35a362d0",
   "metadata": {},
   "source": [
    "When the lenght of sentence is high , so its difficult for encoder to remember full sentence context\n",
    "\n",
    "Its also diffcult for decoders , it will take entire unique words and decide which one is suitable for conversion"
   ]
  },
  {
   "cell_type": "markdown",
   "id": "cf2156bc",
   "metadata": {},
   "source": [
    "## The Solution"
   ]
  },
  {
   "cell_type": "markdown",
   "id": "1db0f382",
   "metadata": {},
   "source": [
    "By remember only the importants words or most useful words \n",
    "\n",
    "This method know as Attention mechanism"
   ]
  },
  {
   "cell_type": "markdown",
   "id": "55cebb83",
   "metadata": {},
   "source": [
    "## Bahdanau VS Luong Attention"
   ]
  },
  {
   "cell_type": "markdown",
   "id": "29104e17",
   "metadata": {},
   "source": []
  }
 ],
 "metadata": {
  "language_info": {
   "name": "python"
  }
 },
 "nbformat": 4,
 "nbformat_minor": 5
}
