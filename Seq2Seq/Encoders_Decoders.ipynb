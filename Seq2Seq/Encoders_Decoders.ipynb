{
 "cells": [
  {
   "cell_type": "markdown",
   "id": "8dc5d45d",
   "metadata": {},
   "source": [
    "# **Encoders and Decoders Architecutre**"
   ]
  },
  {
   "cell_type": "markdown",
   "id": "2aa61b4b",
   "metadata": {},
   "source": [
    "## High Level Overview"
   ]
  },
  {
   "cell_type": "markdown",
   "id": "8edee857",
   "metadata": {},
   "source": [
    "Its the combination of Encoder and Decoder contected by Context Vector\n",
    "\n",
    "Enocoder gets the sequence from input process it and save as a context vector in the form vector\n",
    "\n",
    "Decoder gets the context vector  and process producess output sequence\n",
    "\n",
    "![highOverview](../images/encoder.png)"
   ]
  },
  {
   "cell_type": "markdown",
   "id": "5e60bd4a",
   "metadata": {},
   "source": [
    "## What are the Under the Hood"
   ]
  },
  {
   "cell_type": "markdown",
   "id": "9fb040e6",
   "metadata": {},
   "source": [
    "Encoder is consist of LSTM or GRU\n",
    "\n",
    "Decoder is also consist of LSTM or GRU with softmax it the end\n",
    "\n",
    "![hood](../images/hood.png)"
   ]
  },
  {
   "cell_type": "markdown",
   "id": "8482b562",
   "metadata": {},
   "source": [
    "## Improvement Encoder and Decoder"
   ]
  },
  {
   "cell_type": "markdown",
   "id": "c04155ae",
   "metadata": {},
   "source": [
    "    1. Use Embeddings\n",
    "    2. Use DEEP LSTMS or GRU\n",
    "    3. Reversing the input"
   ]
  },
  {
   "cell_type": "markdown",
   "id": "fc5b6cb5",
   "metadata": {},
   "source": []
  }
 ],
 "metadata": {
  "language_info": {
   "name": "python"
  }
 },
 "nbformat": 4,
 "nbformat_minor": 5
}
