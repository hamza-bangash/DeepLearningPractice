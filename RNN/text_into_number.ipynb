{
  "nbformat": 4,
  "nbformat_minor": 0,
  "metadata": {
    "colab": {
      "provenance": [],
      "authorship_tag": "ABX9TyOB53pDfpDo9RNRvKPlfRgt",
      "include_colab_link": true
    },
    "kernelspec": {
      "name": "python3",
      "display_name": "Python 3"
    },
    "language_info": {
      "name": "python"
    }
  },
  "cells": [
    {
      "cell_type": "markdown",
      "metadata": {
        "id": "view-in-github",
        "colab_type": "text"
      },
      "source": [
        "<a href=\"https://colab.research.google.com/github/hamza-bangash/DeepLearningPractice/blob/main/RNN/text_into_number.ipynb\" target=\"_parent\"><img src=\"https://colab.research.google.com/assets/colab-badge.svg\" alt=\"Open In Colab\"/></a>"
      ]
    },
    {
      "cell_type": "markdown",
      "source": [
        "# **There are two ways to convert text data into numbers**"
      ],
      "metadata": {
        "id": "AHeG2CcJYAuK"
      }
    },
    {
      "cell_type": "markdown",
      "source": [
        "  \n",
        "  1.integer econding\n",
        "\n",
        "  2.Embeddings\n",
        "\n",
        "\n"
      ],
      "metadata": {
        "id": "SWedQOtlYWaW"
      }
    },
    {
      "cell_type": "markdown",
      "source": [
        "## **1.Integer Encoding**"
      ],
      "metadata": {
        "id": "3UfANlM0YnAe"
      }
    },
    {
      "cell_type": "markdown",
      "source": [
        "**Steps**\n",
        "\n",
        "\n",
        "1.   Finding unique words\n",
        "2.   Assign number to each unique words\n",
        "3.   Replace assign number thier sentence in vector form\n",
        "\n",
        "**Now the Problem is each Sentence in Different size**\n",
        "\n",
        "to solve this problem we will add padding\n",
        "\n",
        "**Means add zero at the end of smaller vector so all be know same length**\n",
        "\n"
      ],
      "metadata": {
        "id": "eZAocBijY4uD"
      }
    },
    {
      "cell_type": "markdown",
      "source": [
        "### Integer Encoding in Keras"
      ],
      "metadata": {
        "id": "snizyfU-aAFz"
      }
    },
    {
      "cell_type": "code",
      "source": [
        "import numpy as np\n",
        "\n",
        "docs = ['go india',\n",
        "\t\t'india india',\n",
        "\t\t'hip hip hurray',\n",
        "\t\t'jeetega bhai jeetega india jeetega',\n",
        "\t\t'bharat mata ki jai',\n",
        "\t\t'kohli kohli',\n",
        "\t\t'sachin sachin',\n",
        "    'dhoni dhoni']  ## so these are the sentence know to convert into vectors"
      ],
      "metadata": {
        "id": "teLfrXSEaEVm"
      },
      "execution_count": 2,
      "outputs": []
    },
    {
      "cell_type": "code",
      "source": [
        "from tensorflow.keras.preprocessing.text import Tokenizer  ## Tokenizer object is used of integer encoding\n",
        "tokenizer = Tokenizer(oov_token='<nothing>') ## oov_token means when new words appear during test treat is nothing word"
      ],
      "metadata": {
        "id": "Djv8p5NjaU6x"
      },
      "execution_count": 5,
      "outputs": []
    },
    {
      "cell_type": "code",
      "source": [
        "tokenizer.fit_on_texts(docs) ## so above docs text data change into number , so it will assign words"
      ],
      "metadata": {
        "id": "w3sZVgNOapEb"
      },
      "execution_count": 6,
      "outputs": []
    },
    {
      "cell_type": "code",
      "source": [
        "tokenizer.word_index ## Here each unique word assign its number"
      ],
      "metadata": {
        "colab": {
          "base_uri": "https://localhost:8080/"
        },
        "id": "oQUWMqo9bM9j",
        "outputId": "5d8afe7e-b1a5-4a9a-b51c-bd903a9dcab0"
      },
      "execution_count": 8,
      "outputs": [
        {
          "output_type": "execute_result",
          "data": {
            "text/plain": [
              "{'<nothing>': 1,\n",
              " 'india': 2,\n",
              " 'jeetega': 3,\n",
              " 'hip': 4,\n",
              " 'kohli': 5,\n",
              " 'sachin': 6,\n",
              " 'dhoni': 7,\n",
              " 'go': 8,\n",
              " 'hurray': 9,\n",
              " 'bhai': 10,\n",
              " 'bharat': 11,\n",
              " 'mata': 12,\n",
              " 'ki': 13,\n",
              " 'jai': 14}"
            ]
          },
          "metadata": {},
          "execution_count": 8
        }
      ]
    },
    {
      "cell_type": "code",
      "source": [
        "tokenizer.word_counts ## Here each unique word assign its count"
      ],
      "metadata": {
        "colab": {
          "base_uri": "https://localhost:8080/"
        },
        "id": "obsV6Y1XbPZZ",
        "outputId": "b7150e18-561c-4eee-a8e4-a1f3a9be342c"
      },
      "execution_count": 9,
      "outputs": [
        {
          "output_type": "execute_result",
          "data": {
            "text/plain": [
              "OrderedDict([('go', 1),\n",
              "             ('india', 4),\n",
              "             ('hip', 2),\n",
              "             ('hurray', 1),\n",
              "             ('jeetega', 3),\n",
              "             ('bhai', 1),\n",
              "             ('bharat', 1),\n",
              "             ('mata', 1),\n",
              "             ('ki', 1),\n",
              "             ('jai', 1),\n",
              "             ('kohli', 2),\n",
              "             ('sachin', 2),\n",
              "             ('dhoni', 2)])"
            ]
          },
          "metadata": {},
          "execution_count": 9
        }
      ]
    },
    {
      "cell_type": "code",
      "source": [
        "sequences = tokenizer.texts_to_sequences(docs) ## know to form vector from each sentence in the form number\n",
        "sequences"
      ],
      "metadata": {
        "colab": {
          "base_uri": "https://localhost:8080/"
        },
        "id": "iXY7bUvFbk5r",
        "outputId": "73c6124b-0f7f-4bb6-b72c-280196872388"
      },
      "execution_count": 11,
      "outputs": [
        {
          "output_type": "execute_result",
          "data": {
            "text/plain": [
              "[[8, 2],\n",
              " [2, 2],\n",
              " [4, 4, 9],\n",
              " [3, 10, 3, 2, 3],\n",
              " [11, 12, 13, 14],\n",
              " [5, 5],\n",
              " [6, 6],\n",
              " [7, 7]]"
            ]
          },
          "metadata": {},
          "execution_count": 11
        }
      ]
    },
    {
      "cell_type": "code",
      "source": [
        "from keras.utils import pad_sequences"
      ],
      "metadata": {
        "id": "qClercnXb82o"
      },
      "execution_count": 12,
      "outputs": []
    },
    {
      "cell_type": "code",
      "source": [
        "sequences = pad_sequences(sequences,padding='post') ## add padding means to make each vector of same by adding zero\n",
        "sequences"
      ],
      "metadata": {
        "colab": {
          "base_uri": "https://localhost:8080/"
        },
        "id": "nx2vtUm4cNgg",
        "outputId": "435f6698-da6c-4cc1-e8cd-38bc46d88cac"
      },
      "execution_count": 13,
      "outputs": [
        {
          "output_type": "execute_result",
          "data": {
            "text/plain": [
              "array([[ 8,  2,  0,  0,  0],\n",
              "       [ 2,  2,  0,  0,  0],\n",
              "       [ 4,  4,  9,  0,  0],\n",
              "       [ 3, 10,  3,  2,  3],\n",
              "       [11, 12, 13, 14,  0],\n",
              "       [ 5,  5,  0,  0,  0],\n",
              "       [ 6,  6,  0,  0,  0],\n",
              "       [ 7,  7,  0,  0,  0]], dtype=int32)"
            ]
          },
          "metadata": {},
          "execution_count": 13
        }
      ]
    },
    {
      "cell_type": "markdown",
      "source": [
        "## **2.Embeddings**"
      ],
      "metadata": {
        "id": "5U3e9kQkdKc0"
      }
    },
    {
      "cell_type": "markdown",
      "source": [
        "Embedding is a technique used to representcategorical data  in a  continuous vector space, where similar items are placed closer together."
      ],
      "metadata": {
        "id": "umChmuMdjA24"
      }
    },
    {
      "cell_type": "code",
      "source": [],
      "metadata": {
        "id": "sHZjpCwdGCVP"
      },
      "execution_count": null,
      "outputs": []
    }
  ]
}