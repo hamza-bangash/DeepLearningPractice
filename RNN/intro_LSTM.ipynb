{
 "cells": [
  {
   "cell_type": "markdown",
   "id": "de6dc743",
   "metadata": {},
   "source": [
    "# Problem with RNN "
   ]
  },
  {
   "cell_type": "markdown",
   "id": "9cf7b2fb",
   "metadata": {},
   "source": [
    "In RNN the problem arise when the sentence lenght got increases\n",
    "\n",
    "    1.Problem of long term dependency due to vanishing Gradient\n",
    "    2.Unstable Learning due to Explodings Gradient\n",
    "\n",
    "so that way we move to LSTM"
   ]
  },
  {
   "cell_type": "markdown",
   "id": "edfe13e8",
   "metadata": {},
   "source": [
    "# **LSTM**"
   ]
  },
  {
   "cell_type": "markdown",
   "id": "31f6e44c",
   "metadata": {},
   "source": [
    "## LSTM Core Idea"
   ]
  },
  {
   "cell_type": "markdown",
   "id": "e53054c2",
   "metadata": {},
   "source": [
    "There are two difference  in LSTM from RNN\n",
    "    1.LSTM also have LTM and STM\n",
    "    2.Communication between LTM and STM\n",
    "\n",
    "![coreidea](../images/coreidea.png)\n",
    "![diff](../images/diff.png)"
   ]
  },
  {
   "cell_type": "markdown",
   "id": "a872ec78",
   "metadata": {},
   "source": [
    "## LSTM Gates"
   ]
  },
  {
   "cell_type": "markdown",
   "id": "cd9378d0",
   "metadata": {},
   "source": [
    "There are three type of gates\n",
    "\n",
    "    1.Froget gate is used to remove things from long term memory based on current input\n",
    "    2.input gate decide which thing should add to long term based on current input\n",
    "    3.output gate decide which thing fetch from long term bassend on current input to show as output, it also create short term memory\n",
    "\n",
    "![gate](../images/gates.png)"
   ]
  },
  {
   "cell_type": "markdown",
   "id": "3b3d68e2",
   "metadata": {},
   "source": []
  }
 ],
 "metadata": {
  "language_info": {
   "name": "python"
  }
 },
 "nbformat": 4,
 "nbformat_minor": 5
}
