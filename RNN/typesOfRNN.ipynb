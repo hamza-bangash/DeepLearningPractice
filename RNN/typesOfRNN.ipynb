{
 "cells": [
  {
   "cell_type": "markdown",
   "id": "a76bf3d7",
   "metadata": {},
   "source": [
    "# Types of RNN"
   ]
  },
  {
   "cell_type": "markdown",
   "id": "7f95dc68",
   "metadata": {},
   "source": [
    "**There are four Types of RNN**\n",
    "\n",
    "    1.Many to One\n",
    "    2.One to Many\n",
    "    3.Many to Many\n",
    "    4.One to One"
   ]
  },
  {
   "cell_type": "markdown",
   "id": "7204dee8",
   "metadata": {},
   "source": [
    "## Many to One"
   ]
  },
  {
   "cell_type": "markdown",
   "id": "76936da3",
   "metadata": {},
   "source": [
    "So in Many to One it accept input in the form sequence of data but output in non-sequence of data\n",
    "\n",
    "![manytoone](../images/mto.png)"
   ]
  },
  {
   "cell_type": "markdown",
   "id": "7080813f",
   "metadata": {},
   "source": [
    "## One to Many"
   ]
  },
  {
   "cell_type": "markdown",
   "id": "0b9626bc",
   "metadata": {},
   "source": [
    "one to many where input is not sequential but the output is sequential data , it used in image captioning , like given image to model it give you text to expline the image\n",
    "\n",
    "![onetomany](../images/otm.png)"
   ]
  },
  {
   "cell_type": "markdown",
   "id": "65e31bca",
   "metadata": {},
   "source": [
    "## Many to Many"
   ]
  },
  {
   "cell_type": "markdown",
   "id": "3450efd6",
   "metadata": {},
   "source": [
    "in Many to Many where input is sequentail data and output also is sequential data also know as seq to seq \n",
    "\n",
    "there are two types \n",
    "\n",
    "    1.same length many to many\n",
    "    2.variable length many to many"
   ]
  },
  {
   "cell_type": "markdown",
   "id": "1f95d82b",
   "metadata": {},
   "source": [
    "## One to One"
   ]
  },
  {
   "cell_type": "markdown",
   "id": "755a3c35",
   "metadata": {},
   "source": [
    "in One to One where its get non sequential data and output it also non sequential data , so its not RNN type its actually simple ANN"
   ]
  },
  {
   "cell_type": "markdown",
   "id": "1c753752",
   "metadata": {},
   "source": []
  }
 ],
 "metadata": {
  "language_info": {
   "name": "python"
  }
 },
 "nbformat": 4,
 "nbformat_minor": 5
}
