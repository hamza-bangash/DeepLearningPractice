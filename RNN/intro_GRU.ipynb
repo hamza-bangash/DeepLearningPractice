{
 "cells": [
  {
   "cell_type": "markdown",
   "id": "ee941315",
   "metadata": {},
   "source": [
    "# GRU"
   ]
  },
  {
   "cell_type": "markdown",
   "id": "281f7c2b",
   "metadata": {},
   "source": [
    "The problem with LSTM that its Architecture complex due to which there too many weights bcz of that it take a lot of time to trian\n",
    "\n",
    "in Other hand GRU less complex and give compartively result,\n",
    "\n",
    "![gru](../images/gru.png)"
   ]
  },
  {
   "cell_type": "markdown",
   "id": "2d7a1865",
   "metadata": {},
   "source": [
    "## Architecture Of GRU"
   ]
  },
  {
   "cell_type": "markdown",
   "id": "ce33506d",
   "metadata": {},
   "source": [
    "**There are Two gates in GRU**\n",
    "\n",
    "    There are only one State in GRU know as hidden while in LSTM there are  two (cell state -> LTM and hidden state -> STM)\n",
    "\n",
    "    1.reset gate\n",
    "    2.Update gate"
   ]
  },
  {
   "cell_type": "markdown",
   "id": "8f1004d1",
   "metadata": {},
   "source": [
    "![arch](../images/arch.png)"
   ]
  },
  {
   "cell_type": "markdown",
   "id": "7047d207",
   "metadata": {},
   "source": []
  }
 ],
 "metadata": {
  "language_info": {
   "name": "python"
  }
 },
 "nbformat": 4,
 "nbformat_minor": 5
}
