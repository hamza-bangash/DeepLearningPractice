{
 "cells": [
  {
   "cell_type": "markdown",
   "id": "631eb95c",
   "metadata": {},
   "source": [
    "# **RNN**"
   ]
  },
  {
   "cell_type": "markdown",
   "id": "75e7985d",
   "metadata": {},
   "source": [
    "RNN is type of Sequential Model which work on Sequential Data"
   ]
  },
  {
   "cell_type": "markdown",
   "id": "b7bee871",
   "metadata": {},
   "source": [
    "## **Why RNN** , Why Not ANN or CNN on Sequential Data"
   ]
  },
  {
   "cell_type": "markdown",
   "id": "2b49cbe5",
   "metadata": {},
   "source": [
    "Lets say we have text data to classify them\n",
    " \n",
    " so we use one hot encoder to convert into vectorize form\n",
    "\n",
    "so each word will be represent in vector form\n",
    "\n",
    "each sentence has different kind of words and length \n",
    "\n",
    "if length is different different means different size of vectors \n",
    "\n",
    "so ANN will get different kind shape for each input but ANN can't do this\n",
    "\n",
    "**Problem**\n",
    "\n",
    "    1.Text input varying in size ( means different length)\n",
    "    2.If you handle input lenght by zero padding then also uncessary computation\n",
    "    3.prediction problem \n",
    "    4.Totaly disregarding the sequence of words\n",
    "\n",
    "![text](../images/text.png)"
   ]
  },
  {
   "cell_type": "markdown",
   "id": "bfe96fea",
   "metadata": {},
   "source": [
    "## RoadMap of RNN"
   ]
  },
  {
   "cell_type": "markdown",
   "id": "252ba282",
   "metadata": {},
   "source": [
    "1.Simple RNN\n",
    "2.Backprop\n",
    "3.Lstm\n",
    "4.GRU\n",
    "5.Types of RNN\n",
    "6.Deep RNN\n",
    "7.Biderectional RNN"
   ]
  },
  {
   "cell_type": "markdown",
   "id": "0343d530",
   "metadata": {},
   "source": []
  }
 ],
 "metadata": {
  "language_info": {
   "name": "python"
  }
 },
 "nbformat": 4,
 "nbformat_minor": 5
}
