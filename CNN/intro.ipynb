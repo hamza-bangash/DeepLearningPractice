{
 "cells": [
  {
   "cell_type": "markdown",
   "id": "095797f3",
   "metadata": {},
   "source": [
    "## CNN"
   ]
  },
  {
   "cell_type": "markdown",
   "id": "d6dfc393",
   "metadata": {},
   "source": [
    "convolution neural network are  a special kind of neural network for processing data that has a known grid-like topology like time-series data (1D) or images (2D)"
   ]
  },
  {
   "cell_type": "markdown",
   "id": "7d4dc0c3",
   "metadata": {},
   "source": [
    "#### ANN VS CNN\n",
    "CNN is used Convolution operation\n",
    "ANN is matrix multiplication operation"
   ]
  },
  {
   "cell_type": "markdown",
   "id": "9b4ace87",
   "metadata": {},
   "source": [
    "#### There are three types of layers used in CNN\n",
    "    1.convolution \n",
    "    2.poling\n",
    "    3.FC layer (it also used in ANN)"
   ]
  },
  {
   "cell_type": "markdown",
   "id": "5cf3fd38",
   "metadata": {},
   "source": [
    "#### HOW CNN CAME to Existing\n",
    "it is insipred by  Human visual cortx.  Means the human looking the objects"
   ]
  },
  {
   "cell_type": "markdown",
   "id": "f858b3c1",
   "metadata": {},
   "source": [
    "#### Why not use ANN on image data\n",
    "    1.High computation cost(for example we have image of 100 by 100 pixel which to convert into 1D 100*100 =10000 for example connect these 10000 pixels to 20 nodes this will give us 200000 weights + 20 bias )\n",
    "    2.Overfitting (so connect each pixels to each nodes due which it will prone to overfittin )\n",
    "    3.Loss of imp info like spatial arrangement of pixels (by converting to 1D some special arrangement of pixels got loss)"
   ]
  },
  {
   "cell_type": "markdown",
   "id": "e79acd20",
   "metadata": {},
   "source": [
    "### RoadMap\n",
    "\n",
    "    1.Biological connecction\n",
    "    2.convolution operation\n",
    "    3.padding and stride\n",
    "    4.Pooling\n",
    "    5.complete construction of CNN\n",
    "    6.CNN vs ANN\n",
    "    7.practical work\n",
    "    8.Data Augumation\n",
    "    9.popular CNN architecture like leNet, Alex Net, VGG Net , TesNet , Xception\n",
    "    10.Transfer learning\n",
    "    11.project"
   ]
  }
 ],
 "metadata": {
  "language_info": {
   "name": "python"
  }
 },
 "nbformat": 4,
 "nbformat_minor": 5
}
