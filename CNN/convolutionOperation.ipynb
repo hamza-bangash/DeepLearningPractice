{
 "cells": [
  {
   "cell_type": "markdown",
   "id": "a776ee0a",
   "metadata": {},
   "source": [
    "## CNN Work"
   ]
  },
  {
   "cell_type": "markdown",
   "id": "c2d884d1",
   "metadata": {},
   "source": [
    "CNN is specil kind of ANN which work on based of three layers\n",
    "    1.Convolution layer\n",
    "    2.Pooling layer\n",
    "    3.FC or Dense layer\n",
    "Let says we have CNN \n",
    "so the first few convolution layer will find edges (preimtive)\n",
    "then remaing convolution will find complex pattern from given edges\n",
    "then FC will make classification to find rightfull image\n",
    "\n",
    "![cnnWork](../images/cnnwork.png)"
   ]
  },
  {
   "cell_type": "markdown",
   "id": "49b47e74",
   "metadata": {},
   "source": []
  }
 ],
 "metadata": {
  "language_info": {
   "name": "python"
  }
 },
 "nbformat": 4,
 "nbformat_minor": 5
}
