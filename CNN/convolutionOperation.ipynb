{
 "cells": [
  {
   "cell_type": "markdown",
   "id": "a776ee0a",
   "metadata": {},
   "source": [
    "## CNN Work"
   ]
  },
  {
   "cell_type": "markdown",
   "id": "c2d884d1",
   "metadata": {},
   "source": [
    "CNN is specil kind of ANN which work on based of three layers\n",
    "    1.Convolution layer\n",
    "    2.Pooling layer\n",
    "    3.FC or Dense layer\n",
    "Let says we have CNN \n",
    "so the first few convolution layer will find edges (preimtive)\n",
    "then remaing convolution will find complex pattern from given edges\n",
    "then FC will make classification to find rightfull image\n",
    "\n",
    "![cnnWork](../images/cnnwork.png)"
   ]
  },
  {
   "cell_type": "markdown",
   "id": "49b47e74",
   "metadata": {},
   "source": [
    "## Basic of Images"
   ]
  },
  {
   "cell_type": "markdown",
   "id": "07049ff8",
   "metadata": {},
   "source": [
    "we will study two types of images.\n",
    "    **1.GreyScale or BlackAndWhite**\n",
    "    **2.RGB or color** \n",
    "so image is created by pixel which represent by 0-256 its in 2D array"
   ]
  },
  {
   "cell_type": "markdown",
   "id": "591107ba",
   "metadata": {},
   "source": [
    "#### 1.GreySCale"
   ]
  },
  {
   "cell_type": "markdown",
   "id": "da792932",
   "metadata": {},
   "source": [
    "\n",
    "\n",
    "![greyScale](../images/grey.png)"
   ]
  },
  {
   "cell_type": "markdown",
   "id": "2a719554",
   "metadata": {},
   "source": [
    "#### 2.Color"
   ]
  },
  {
   "cell_type": "markdown",
   "id": "bb271bf0",
   "metadata": {},
   "source": [
    "\n",
    "so color have 3 channel RED GREEN BLUE each one have 0-256 number form these image we created color image\n",
    "\n",
    "the main difference between grey vs rgb is that grey has one channel where rgb has three channel\n",
    "\n",
    "![rgb](../images/rgb.png)"
   ]
  },
  {
   "cell_type": "markdown",
   "id": "ed6b3e28",
   "metadata": {},
   "source": [
    "## Edge Detection (Convolution Operation)"
   ]
  },
  {
   "cell_type": "markdown",
   "id": "722d5fa9",
   "metadata": {},
   "source": [
    "For edge detection we need three basic things\n",
    "    **1.image**\n",
    "    **2.Filter or Kernel which consist of 3X3 Matrix**\n",
    "    **3.feature Map (output)**\n",
    "so each filter goes with 3X3 and multiple each cell with corresponding and add them , the result place in the feature map corresponding in single cell.\n",
    "This is horizontal type edge detection. There are different kind of edge detection by changing filter you can find different edge\n",
    "![edge](../images/edge.png)"
   ]
  },
  {
   "cell_type": "markdown",
   "id": "333bee5a",
   "metadata": {},
   "source": [
    "#### Working with rgb"
   ]
  },
  {
   "cell_type": "markdown",
   "id": "4e375876",
   "metadata": {},
   "source": [
    "![edgergb](../images/edgergb.png)"
   ]
  },
  {
   "cell_type": "markdown",
   "id": "b6033f33",
   "metadata": {},
   "source": []
  }
 ],
 "metadata": {
  "language_info": {
   "name": "python"
  }
 },
 "nbformat": 4,
 "nbformat_minor": 5
}
