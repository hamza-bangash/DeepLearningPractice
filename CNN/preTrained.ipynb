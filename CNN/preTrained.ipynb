{
 "cells": [
  {
   "cell_type": "markdown",
   "id": "db82bdda",
   "metadata": {},
   "source": [
    "# Why PreTrain Needed"
   ]
  },
  {
   "cell_type": "markdown",
   "id": "b5cee0c7",
   "metadata": {},
   "source": [
    "1) Data Hungry (means a lot , if its classifier that means lable data,so it take a loot of time to gather)\n",
    "2) Time (Training process take time)\n",
    "\n",
    "Solution that we pretrained model"
   ]
  },
  {
   "cell_type": "markdown",
   "id": "650b8d97",
   "metadata": {},
   "source": [
    "## ImageNet Dataset"
   ]
  },
  {
   "cell_type": "markdown",
   "id": "3cfde5ac",
   "metadata": {},
   "source": [
    "Its a Visual Database of Images\n",
    "\n",
    "so Fei Fei Li in 2006 builed this database of 1.4 million images , has 20,000 categories ,\n",
    "\n",
    "these all images are label\n",
    "\n",
    "Around 1Million images are bounding box label\n",
    "\n",
    "Bounding box label : means it tells where the object is in the pic."
   ]
  },
  {
   "cell_type": "markdown",
   "id": "1ee3c75a",
   "metadata": {},
   "source": [
    "## ILSVRC or ImageNet challenge in 2010"
   ]
  },
  {
   "cell_type": "markdown",
   "id": "54c6f239",
   "metadata": {},
   "source": [
    "The data used in this competition is the subset of imageNet dataset\n",
    "\n",
    "in this competition a juffery created AlexNet CNN model (know as AlexNet) to win this compettiton\n",
    "\n",
    "![alexNet](../images/alexNet.png)"
   ]
  },
  {
   "cell_type": "markdown",
   "id": "ec141cdb",
   "metadata": {},
   "source": [
    "## Famous Architecures"
   ]
  },
  {
   "cell_type": "markdown",
   "id": "6a512067",
   "metadata": {},
   "source": [
    "![famous](../images/famous.png)"
   ]
  },
  {
   "cell_type": "markdown",
   "id": "1b1769bc",
   "metadata": {},
   "source": [
    "## Idea of PreTrained Models"
   ]
  },
  {
   "cell_type": "markdown",
   "id": "abadc90e",
   "metadata": {},
   "source": [
    "if We have strong pre trained model, so why create from start"
   ]
  },
  {
   "cell_type": "markdown",
   "id": "d8452731",
   "metadata": {},
   "source": [
    "## Keras PreTrained Models"
   ]
  },
  {
   "cell_type": "markdown",
   "id": "d7569ab2",
   "metadata": {},
   "source": [
    "in Keras Application there is a lot pre trained models"
   ]
  },
  {
   "cell_type": "code",
   "execution_count": 4,
   "id": "82e982ba",
   "metadata": {},
   "outputs": [],
   "source": [
    "from tensorflow.keras.applications.resnet50 import ResNet50\n",
    "from tensorflow.keras.preprocessing import image\n",
    "from tensorflow.keras.applications.resnet50 import preprocess_input,decode_predictions\n",
    "import numpy as np"
   ]
  },
  {
   "cell_type": "code",
   "execution_count": 5,
   "id": "ae9925fc",
   "metadata": {},
   "outputs": [
    {
     "name": "stderr",
     "output_type": "stream",
     "text": [
      "2025-07-19 10:34:22.993130: E external/local_xla/xla/stream_executor/cuda/cuda_platform.cc:51] failed call to cuInit: INTERNAL: CUDA error: Failed call to cuInit: UNKNOWN ERROR (303)\n"
     ]
    },
    {
     "name": "stdout",
     "output_type": "stream",
     "text": [
      "Downloading data from https://storage.googleapis.com/tensorflow/keras-applications/resnet/resnet50_weights_tf_dim_ordering_tf_kernels.h5\n",
      "\u001b[1m102967424/102967424\u001b[0m \u001b[32m━━━━━━━━━━━━━━━━━━━━\u001b[0m\u001b[37m\u001b[0m \u001b[1m10s\u001b[0m 0us/step\n"
     ]
    }
   ],
   "source": [
    "model = ResNet50(weights='imagenet')"
   ]
  },
  {
   "cell_type": "code",
   "execution_count": 6,
   "id": "cbb4961b",
   "metadata": {},
   "outputs": [],
   "source": [
    "img = image.load_img('../images/dog.jpg',target_size=(224,224))\n",
    "\n",
    "x = image.img_to_array(img)\n",
    "\n",
    "x = np.expand_dims(x,axis=0)\n",
    "\n",
    "x = preprocess_input(x)"
   ]
  },
  {
   "cell_type": "code",
   "execution_count": 7,
   "id": "19d7904d",
   "metadata": {},
   "outputs": [
    {
     "name": "stdout",
     "output_type": "stream",
     "text": [
      "\u001b[1m1/1\u001b[0m \u001b[32m━━━━━━━━━━━━━━━━━━━━\u001b[0m\u001b[37m\u001b[0m \u001b[1m1s\u001b[0m 1s/step\n",
      "Downloading data from https://storage.googleapis.com/download.tensorflow.org/data/imagenet_class_index.json\n",
      "\u001b[1m35363/35363\u001b[0m \u001b[32m━━━━━━━━━━━━━━━━━━━━\u001b[0m\u001b[37m\u001b[0m \u001b[1m0s\u001b[0m 2us/step\n",
      "Predicted :  [('n02099601', 'golden_retriever', 0.93378353), ('n02099712', 'Labrador_retriever', 0.04891467), ('n02101556', 'clumber', 0.0054556737)]\n"
     ]
    }
   ],
   "source": [
    "preds = model.predict(x)\n",
    "\n",
    "print('Predicted : ',decode_predictions(preds,top=3)[0])"
   ]
  },
  {
   "cell_type": "code",
   "execution_count": 8,
   "id": "f00e68dd",
   "metadata": {},
   "outputs": [],
   "source": [
    "img = image.load_img('../images/cat.png',target_size=(224,224))\n",
    "\n",
    "x = image.img_to_array(img)\n",
    "\n",
    "x = np.expand_dims(x,axis=0)\n",
    "\n",
    "x = preprocess_input(x)"
   ]
  },
  {
   "cell_type": "code",
   "execution_count": 9,
   "id": "bfbf2345",
   "metadata": {},
   "outputs": [
    {
     "name": "stdout",
     "output_type": "stream",
     "text": [
      "\u001b[1m1/1\u001b[0m \u001b[32m━━━━━━━━━━━━━━━━━━━━\u001b[0m\u001b[37m\u001b[0m \u001b[1m0s\u001b[0m 98ms/step\n",
      "Predicted :  [('n06359193', 'web_site', 0.99593383), ('n01990800', 'isopod', 0.0006937018), ('n03782006', 'monitor', 0.00030065104)]\n"
     ]
    }
   ],
   "source": [
    "preds = model.predict(x)\n",
    "\n",
    "print('Predicted : ',decode_predictions(preds,top=3)[0])"
   ]
  },
  {
   "cell_type": "code",
   "execution_count": null,
   "id": "36a1bec4",
   "metadata": {},
   "outputs": [],
   "source": []
  },
  {
   "cell_type": "code",
   "execution_count": null,
   "id": "70d62083",
   "metadata": {},
   "outputs": [],
   "source": []
  }
 ],
 "metadata": {
  "kernelspec": {
   "display_name": "base",
   "language": "python",
   "name": "python3"
  },
  "language_info": {
   "codemirror_mode": {
    "name": "ipython",
    "version": 3
   },
   "file_extension": ".py",
   "mimetype": "text/x-python",
   "name": "python",
   "nbconvert_exporter": "python",
   "pygments_lexer": "ipython3",
   "version": "3.12.2"
  }
 },
 "nbformat": 4,
 "nbformat_minor": 5
}
