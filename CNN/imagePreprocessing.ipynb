{
  "nbformat": 4,
  "nbformat_minor": 0,
  "metadata": {
    "colab": {
      "provenance": [],
      "gpuType": "T4",
      "authorship_tag": "ABX9TyNob9Gy96MJwXgX3zC8g20T",
      "include_colab_link": true
    },
    "kernelspec": {
      "name": "python3",
      "display_name": "Python 3"
    },
    "language_info": {
      "name": "python"
    },
    "accelerator": "GPU"
  },
  "cells": [
    {
      "cell_type": "markdown",
      "metadata": {
        "id": "view-in-github",
        "colab_type": "text"
      },
      "source": [
        "<a href=\"https://colab.research.google.com/github/hamza-bangash/DeepLearningPractice/blob/main/CNN/imagePreprocessing.ipynb\" target=\"_parent\"><img src=\"https://colab.research.google.com/assets/colab-badge.svg\" alt=\"Open In Colab\"/></a>"
      ]
    },
    {
      "cell_type": "markdown",
      "source": [
        "# **Image Preprocessing fro CNN**"
      ],
      "metadata": {
        "id": "YeD-xl0RS2Kb"
      }
    },
    {
      "cell_type": "markdown",
      "source": [
        "## **First Downlaod Data from Kaggle**"
      ],
      "metadata": {
        "id": "RUMzaV1kTFxW"
      }
    },
    {
      "cell_type": "code",
      "source": [
        "# 1) install kaggle api\n",
        "!pip install kaggle --quiet"
      ],
      "metadata": {
        "id": "LJ13_nPcT5hF"
      },
      "execution_count": 2,
      "outputs": []
    },
    {
      "cell_type": "code",
      "source": [
        "# 2) upload kaggle.json\n",
        "from google.colab import files\n",
        "files.upload()  # choose kaggle.json from your computer"
      ],
      "metadata": {
        "colab": {
          "base_uri": "https://localhost:8080/",
          "height": 95
        },
        "id": "uP_pziqJXcCf",
        "outputId": "81f60fb5-83f8-4903-e1ce-5d5273457e7a"
      },
      "execution_count": 3,
      "outputs": [
        {
          "output_type": "display_data",
          "data": {
            "text/plain": [
              "<IPython.core.display.HTML object>"
            ],
            "text/html": [
              "\n",
              "     <input type=\"file\" id=\"files-0864a274-9814-4e98-918d-2cc131afddb3\" name=\"files[]\" multiple disabled\n",
              "        style=\"border:none\" />\n",
              "     <output id=\"result-0864a274-9814-4e98-918d-2cc131afddb3\">\n",
              "      Upload widget is only available when the cell has been executed in the\n",
              "      current browser session. Please rerun this cell to enable.\n",
              "      </output>\n",
              "      <script>// Copyright 2017 Google LLC\n",
              "//\n",
              "// Licensed under the Apache License, Version 2.0 (the \"License\");\n",
              "// you may not use this file except in compliance with the License.\n",
              "// You may obtain a copy of the License at\n",
              "//\n",
              "//      http://www.apache.org/licenses/LICENSE-2.0\n",
              "//\n",
              "// Unless required by applicable law or agreed to in writing, software\n",
              "// distributed under the License is distributed on an \"AS IS\" BASIS,\n",
              "// WITHOUT WARRANTIES OR CONDITIONS OF ANY KIND, either express or implied.\n",
              "// See the License for the specific language governing permissions and\n",
              "// limitations under the License.\n",
              "\n",
              "/**\n",
              " * @fileoverview Helpers for google.colab Python module.\n",
              " */\n",
              "(function(scope) {\n",
              "function span(text, styleAttributes = {}) {\n",
              "  const element = document.createElement('span');\n",
              "  element.textContent = text;\n",
              "  for (const key of Object.keys(styleAttributes)) {\n",
              "    element.style[key] = styleAttributes[key];\n",
              "  }\n",
              "  return element;\n",
              "}\n",
              "\n",
              "// Max number of bytes which will be uploaded at a time.\n",
              "const MAX_PAYLOAD_SIZE = 100 * 1024;\n",
              "\n",
              "function _uploadFiles(inputId, outputId) {\n",
              "  const steps = uploadFilesStep(inputId, outputId);\n",
              "  const outputElement = document.getElementById(outputId);\n",
              "  // Cache steps on the outputElement to make it available for the next call\n",
              "  // to uploadFilesContinue from Python.\n",
              "  outputElement.steps = steps;\n",
              "\n",
              "  return _uploadFilesContinue(outputId);\n",
              "}\n",
              "\n",
              "// This is roughly an async generator (not supported in the browser yet),\n",
              "// where there are multiple asynchronous steps and the Python side is going\n",
              "// to poll for completion of each step.\n",
              "// This uses a Promise to block the python side on completion of each step,\n",
              "// then passes the result of the previous step as the input to the next step.\n",
              "function _uploadFilesContinue(outputId) {\n",
              "  const outputElement = document.getElementById(outputId);\n",
              "  const steps = outputElement.steps;\n",
              "\n",
              "  const next = steps.next(outputElement.lastPromiseValue);\n",
              "  return Promise.resolve(next.value.promise).then((value) => {\n",
              "    // Cache the last promise value to make it available to the next\n",
              "    // step of the generator.\n",
              "    outputElement.lastPromiseValue = value;\n",
              "    return next.value.response;\n",
              "  });\n",
              "}\n",
              "\n",
              "/**\n",
              " * Generator function which is called between each async step of the upload\n",
              " * process.\n",
              " * @param {string} inputId Element ID of the input file picker element.\n",
              " * @param {string} outputId Element ID of the output display.\n",
              " * @return {!Iterable<!Object>} Iterable of next steps.\n",
              " */\n",
              "function* uploadFilesStep(inputId, outputId) {\n",
              "  const inputElement = document.getElementById(inputId);\n",
              "  inputElement.disabled = false;\n",
              "\n",
              "  const outputElement = document.getElementById(outputId);\n",
              "  outputElement.innerHTML = '';\n",
              "\n",
              "  const pickedPromise = new Promise((resolve) => {\n",
              "    inputElement.addEventListener('change', (e) => {\n",
              "      resolve(e.target.files);\n",
              "    });\n",
              "  });\n",
              "\n",
              "  const cancel = document.createElement('button');\n",
              "  inputElement.parentElement.appendChild(cancel);\n",
              "  cancel.textContent = 'Cancel upload';\n",
              "  const cancelPromise = new Promise((resolve) => {\n",
              "    cancel.onclick = () => {\n",
              "      resolve(null);\n",
              "    };\n",
              "  });\n",
              "\n",
              "  // Wait for the user to pick the files.\n",
              "  const files = yield {\n",
              "    promise: Promise.race([pickedPromise, cancelPromise]),\n",
              "    response: {\n",
              "      action: 'starting',\n",
              "    }\n",
              "  };\n",
              "\n",
              "  cancel.remove();\n",
              "\n",
              "  // Disable the input element since further picks are not allowed.\n",
              "  inputElement.disabled = true;\n",
              "\n",
              "  if (!files) {\n",
              "    return {\n",
              "      response: {\n",
              "        action: 'complete',\n",
              "      }\n",
              "    };\n",
              "  }\n",
              "\n",
              "  for (const file of files) {\n",
              "    const li = document.createElement('li');\n",
              "    li.append(span(file.name, {fontWeight: 'bold'}));\n",
              "    li.append(span(\n",
              "        `(${file.type || 'n/a'}) - ${file.size} bytes, ` +\n",
              "        `last modified: ${\n",
              "            file.lastModifiedDate ? file.lastModifiedDate.toLocaleDateString() :\n",
              "                                    'n/a'} - `));\n",
              "    const percent = span('0% done');\n",
              "    li.appendChild(percent);\n",
              "\n",
              "    outputElement.appendChild(li);\n",
              "\n",
              "    const fileDataPromise = new Promise((resolve) => {\n",
              "      const reader = new FileReader();\n",
              "      reader.onload = (e) => {\n",
              "        resolve(e.target.result);\n",
              "      };\n",
              "      reader.readAsArrayBuffer(file);\n",
              "    });\n",
              "    // Wait for the data to be ready.\n",
              "    let fileData = yield {\n",
              "      promise: fileDataPromise,\n",
              "      response: {\n",
              "        action: 'continue',\n",
              "      }\n",
              "    };\n",
              "\n",
              "    // Use a chunked sending to avoid message size limits. See b/62115660.\n",
              "    let position = 0;\n",
              "    do {\n",
              "      const length = Math.min(fileData.byteLength - position, MAX_PAYLOAD_SIZE);\n",
              "      const chunk = new Uint8Array(fileData, position, length);\n",
              "      position += length;\n",
              "\n",
              "      const base64 = btoa(String.fromCharCode.apply(null, chunk));\n",
              "      yield {\n",
              "        response: {\n",
              "          action: 'append',\n",
              "          file: file.name,\n",
              "          data: base64,\n",
              "        },\n",
              "      };\n",
              "\n",
              "      let percentDone = fileData.byteLength === 0 ?\n",
              "          100 :\n",
              "          Math.round((position / fileData.byteLength) * 100);\n",
              "      percent.textContent = `${percentDone}% done`;\n",
              "\n",
              "    } while (position < fileData.byteLength);\n",
              "  }\n",
              "\n",
              "  // All done.\n",
              "  yield {\n",
              "    response: {\n",
              "      action: 'complete',\n",
              "    }\n",
              "  };\n",
              "}\n",
              "\n",
              "scope.google = scope.google || {};\n",
              "scope.google.colab = scope.google.colab || {};\n",
              "scope.google.colab._files = {\n",
              "  _uploadFiles,\n",
              "  _uploadFilesContinue,\n",
              "};\n",
              "})(self);\n",
              "</script> "
            ]
          },
          "metadata": {}
        },
        {
          "output_type": "stream",
          "name": "stdout",
          "text": [
            "Saving kaggle.json to kaggle.json\n"
          ]
        },
        {
          "output_type": "execute_result",
          "data": {
            "text/plain": [
              "{'kaggle.json': b'{\"username\":\"hamzabangash1\",\"key\":\"bf2ca98470c38c5e1d6d788919559588\"}'}"
            ]
          },
          "metadata": {},
          "execution_count": 3
        }
      ]
    },
    {
      "cell_type": "code",
      "source": [
        "# 3) move kaggle.json to the correct folder\n",
        "!mkdir -p ~/.kaggle\n",
        "!mv kaggle.json ~/.kaggle/"
      ],
      "metadata": {
        "id": "bP2EbpGFXeYd"
      },
      "execution_count": 4,
      "outputs": []
    },
    {
      "cell_type": "code",
      "source": [
        "# 4) set correct file permissions\n",
        "!chmod 600 ~/.kaggle/kaggle.json"
      ],
      "metadata": {
        "id": "v7d8mZJGXhYI"
      },
      "execution_count": 5,
      "outputs": []
    },
    {
      "cell_type": "code",
      "source": [
        "# 5) download dataset\n",
        "!kaggle datasets download samuelcortinhas/apples-or-tomatoes-image-classification\n"
      ],
      "metadata": {
        "colab": {
          "base_uri": "https://localhost:8080/"
        },
        "id": "T7-ReowbWwPX",
        "outputId": "9dda071e-fb09-4f75-bf51-a003762d76a1"
      },
      "execution_count": 6,
      "outputs": [
        {
          "output_type": "stream",
          "name": "stdout",
          "text": [
            "Dataset URL: https://www.kaggle.com/datasets/samuelcortinhas/apples-or-tomatoes-image-classification\n",
            "License(s): CC0-1.0\n",
            "Downloading apples-or-tomatoes-image-classification.zip to /content\n",
            "  0% 0.00/2.33M [00:00<?, ?B/s]\n",
            "100% 2.33M/2.33M [00:00<00:00, 871MB/s]\n"
          ]
        }
      ]
    },
    {
      "cell_type": "code",
      "source": [
        "# 6) unzip dataset into 'data' folder\n",
        "!unzip -q apples-or-tomatoes-image-classification.zip -d data/"
      ],
      "metadata": {
        "id": "IUnIh6BYWdap"
      },
      "execution_count": 7,
      "outputs": []
    },
    {
      "cell_type": "code",
      "source": [
        "# 7) inspect the data or Structure of folder\n",
        "!find data -maxdepth 2 -type d | head -n 20"
      ],
      "metadata": {
        "colab": {
          "base_uri": "https://localhost:8080/"
        },
        "id": "0NzxbxGyYFIU",
        "outputId": "2b586f86-cfa7-44c0-ac48-05aaf7dd57e8"
      },
      "execution_count": 8,
      "outputs": [
        {
          "output_type": "stream",
          "name": "stdout",
          "text": [
            "data\n",
            "data/test\n",
            "data/test/tomatoes\n",
            "data/test/apples\n",
            "data/train\n",
            "data/train/tomatoes\n",
            "data/train/apples\n"
          ]
        }
      ]
    },
    {
      "cell_type": "markdown",
      "source": [
        "## **Checking for Corrupt files**"
      ],
      "metadata": {
        "id": "AMMUqsI-cRLn"
      }
    },
    {
      "cell_type": "code",
      "source": [
        "import os\n",
        "from PIL import Image\n",
        "\n",
        "root = \"data\"  # your dataset folder\n",
        "bad = 0\n",
        "\n",
        "for dirpath, _, files in os.walk(root):\n",
        "    for f in files:\n",
        "        p = os.path.join(dirpath, f)\n",
        "        try:\n",
        "            Image.open(p).verify()  # check if image is valid\n",
        "        except Exception:\n",
        "            bad += 1\n",
        "            try:\n",
        "                os.remove(p)  # delete corrupt image\n",
        "            except:\n",
        "                pass\n",
        "\n",
        "print(\"removed bad files:\", bad)\n"
      ],
      "metadata": {
        "colab": {
          "base_uri": "https://localhost:8080/"
        },
        "id": "1AGRZTYHbDqq",
        "outputId": "5f422df4-7ec2-439a-d3c7-3f0ab9e7b038"
      },
      "execution_count": 9,
      "outputs": [
        {
          "output_type": "stream",
          "name": "stdout",
          "text": [
            "removed bad files: 0\n"
          ]
        }
      ]
    },
    {
      "cell_type": "markdown",
      "source": [
        "## **Load Dataset into TensorFlow**"
      ],
      "metadata": {
        "id": "7Tc7zbPPc4P-"
      }
    },
    {
      "cell_type": "code",
      "source": [
        "import tensorflow as tf\n",
        "\n",
        "# parameters\n",
        "img_size = (224, 224)  # resize all images to 224x224\n",
        "batch_size = 32\n",
        "\n",
        "# 1) training dataset\n",
        "train_ds = tf.keras.utils.image_dataset_from_directory(\n",
        "    \"data/train\",         # path to training images\n",
        "    image_size=img_size,  # resize images\n",
        "    batch_size=batch_size,\n",
        "    shuffle=True           # shuffle data for better training\n",
        ")\n",
        "\n",
        "# 2) testing dataset\n",
        "test_ds = tf.keras.utils.image_dataset_from_directory(\n",
        "    \"data/test\",          # path to test images\n",
        "    image_size=img_size,\n",
        "    batch_size=batch_size,\n",
        "    shuffle=False          # no need to shuffle test data\n",
        ")\n",
        "\n",
        "# 3) see class names\n",
        "class_names = train_ds.class_names\n",
        "print(\"Classes:\", class_names)\n"
      ],
      "metadata": {
        "colab": {
          "base_uri": "https://localhost:8080/"
        },
        "id": "TXdU58w1cXRh",
        "outputId": "9c842b05-ad30-4166-a621-0c67c65b939e"
      },
      "execution_count": 10,
      "outputs": [
        {
          "output_type": "stream",
          "name": "stdout",
          "text": [
            "Found 294 files belonging to 2 classes.\n",
            "Found 97 files belonging to 2 classes.\n",
            "Classes: ['apples', 'tomatoes']\n"
          ]
        }
      ]
    },
    {
      "cell_type": "markdown",
      "source": [
        "## **Checking Balance of Data**"
      ],
      "metadata": {
        "id": "akALVcA8d9Z8"
      }
    },
    {
      "cell_type": "code",
      "source": [
        "import numpy as np\n",
        "\n",
        "# get all labels from the training dataset\n",
        "all_labels = np.concatenate([y.numpy() for x, y in train_ds], axis=0)\n",
        "\n",
        "# count images per class\n",
        "unique, counts = np.unique(all_labels, return_counts=True)\n",
        "class_counts = dict(zip(class_names, counts))\n",
        "\n",
        "print(\"Class distribution in training set:\", class_counts)\n"
      ],
      "metadata": {
        "colab": {
          "base_uri": "https://localhost:8080/"
        },
        "id": "4O6PK1AndAI7",
        "outputId": "004a546d-8d94-42dd-ee57-506a83e98fb1"
      },
      "execution_count": 11,
      "outputs": [
        {
          "output_type": "stream",
          "name": "stdout",
          "text": [
            "Class distribution in training set: {'apples': np.int64(164), 'tomatoes': np.int64(130)}\n"
          ]
        }
      ]
    },
    {
      "cell_type": "markdown",
      "source": [
        "#### **If Data Inbalance**\n",
        "  You have a few options:\n",
        "\n",
        "**1) Data Augmentation for the minority class**\n",
        "\n",
        "Apply extra transformations (flip, rotate, zoom) more frequently to tomatoes to increase effective training samples\n",
        "\n",
        "**2) Class Weights in Training**\n",
        "\n",
        "class_weight = {\n",
        "\n",
        "    0: 1.0,               # apples\n",
        "\n",
        "    1: 164 / 130          # tomatoes -> 1.26\n",
        "}\n",
        "\n",
        "model.fit(train_ds, validation_data=test_ds, epochs=10, class_weight=class_weight)\n",
        "\n",
        "The model pays more attention to the minority class during training.\n",
        "\n",
        "**3)Oversampling**\n",
        "\n",
        "Repeat minority class images to balance the dataset.\n",
        "\n",
        "Usually done before creating image_dataset_from_directory, less common in TF 2.x pipelines because augmentation + class weighting works well."
      ],
      "metadata": {
        "id": "JpmITWxhe2u9"
      }
    },
    {
      "cell_type": "markdown",
      "source": [
        "#### 1) Data Augmentation for the minority class"
      ],
      "metadata": {
        "id": "Dxa9SVS7isG2"
      }
    },
    {
      "cell_type": "markdown",
      "source": [
        "##### Step 1: Define data augmentation"
      ],
      "metadata": {
        "id": "KWNm3QFvi6Gn"
      }
    },
    {
      "cell_type": "code",
      "source": [
        "import tensorflow as tf\n",
        "\n",
        "data_augmentation = tf.keras.Sequential([\n",
        "    tf.keras.layers.RandomFlip(\"horizontal\"),\n",
        "    tf.keras.layers.RandomRotation(0.1),\n",
        "    tf.keras.layers.RandomZoom(0.1),\n",
        "])\n"
      ],
      "metadata": {
        "id": "a7ITlC9_e_g2"
      },
      "execution_count": 12,
      "outputs": []
    },
    {
      "cell_type": "markdown",
      "source": [
        "##### Step 2: Separate minority class images"
      ],
      "metadata": {
        "id": "-HGLTMXSjEd7"
      }
    },
    {
      "cell_type": "code",
      "source": [
        "# get all images and labels from training dataset\n",
        "images = []\n",
        "labels = []\n",
        "\n",
        "for x, y in train_ds:  # train_ds from step 3\n",
        "    images.append(x)\n",
        "    labels.append(y)\n",
        "\n",
        "images = tf.concat(images, axis=0)\n",
        "labels = tf.concat(labels, axis=0)\n",
        "\n",
        "# minority class index (tomatoes)\n",
        "minority_index = 1\n",
        "\n",
        "minority_images = tf.boolean_mask(images, labels==minority_index)\n",
        "minority_labels = tf.boolean_mask(labels, labels==minority_index)\n"
      ],
      "metadata": {
        "id": "nfNSPq9qi4Sz"
      },
      "execution_count": 13,
      "outputs": []
    },
    {
      "cell_type": "markdown",
      "source": [
        "##### Step 3: Apply augmentation only to minority images"
      ],
      "metadata": {
        "id": "rX2OcXH1jPVO"
      }
    },
    {
      "cell_type": "code",
      "source": [
        "augmented_images = data_augmentation(minority_images)\n",
        "augmented_labels = minority_labels  # labels stay the same"
      ],
      "metadata": {
        "id": "TOuvBktDjKbR"
      },
      "execution_count": 14,
      "outputs": []
    },
    {
      "cell_type": "markdown",
      "source": [
        "##### Step 4: Combine with original training dataset"
      ],
      "metadata": {
        "id": "xOdTKwm5jgdu"
      }
    },
    {
      "cell_type": "code",
      "source": [
        "# combine original images + augmented minority images\n",
        "all_images = tf.concat([images, augmented_images], axis=0)\n",
        "all_labels = tf.concat([labels, augmented_labels], axis=0)\n",
        "\n",
        "# create new tf.data.Dataset\n",
        "train_ds_balanced = tf.data.Dataset.from_tensor_slices((all_images, all_labels))\n",
        "train_ds_balanced = train_ds_balanced.shuffle(300).batch(32)"
      ],
      "metadata": {
        "id": "OfHfuYn2jXHe"
      },
      "execution_count": 15,
      "outputs": []
    },
    {
      "cell_type": "markdown",
      "source": [
        "## **Data Augmentation**"
      ],
      "metadata": {
        "id": "9NmladZHj6i6"
      }
    },
    {
      "cell_type": "code",
      "source": [
        "data_augmentation = tf.keras.Sequential([\n",
        "    tf.keras.layers.RandomFlip(\"horizontal\"),\n",
        "    tf.keras.layers.RandomRotation(0.1),\n",
        "    tf.keras.layers.RandomZoom(0.1),\n",
        "])\n",
        "\n",
        "# apply augmentation only on training dataset\n",
        "train_ds_balanced = train_ds_balanced.map(lambda x, y: (data_augmentation(x), y))\n"
      ],
      "metadata": {
        "id": "dwcCtURllAJF"
      },
      "execution_count": 16,
      "outputs": []
    },
    {
      "cell_type": "markdown",
      "source": [
        "## **Normalize Pixel Values**"
      ],
      "metadata": {
        "id": "lxMnw5Y7l9an"
      }
    },
    {
      "cell_type": "code",
      "source": [
        "# normalize images\n",
        "normalizer = tf.keras.layers.Rescaling(1./255)\n",
        "\n",
        "# apply normalization to datasets\n",
        "train_ds_balanced = train_ds_balanced.map(lambda x, y: (normalizer(x), y))\n",
        "test_ds  = test_ds.map(lambda x, y: (normalizer(x), y))"
      ],
      "metadata": {
        "id": "KsRMefa0ll4T"
      },
      "execution_count": 17,
      "outputs": []
    },
    {
      "cell_type": "markdown",
      "source": [
        "## **Improve Performance with Caching & Prefetch**"
      ],
      "metadata": {
        "id": "YuRxXrQrmiFb"
      }
    },
    {
      "cell_type": "code",
      "source": [
        "train_ds = train_ds.cache().prefetch(tf.data.AUTOTUNE)\n",
        "test_ds  = test_ds.cache().prefetch(tf.data.AUTOTUNE)"
      ],
      "metadata": {
        "id": "ZcfYjDbEmIpP"
      },
      "execution_count": 18,
      "outputs": []
    },
    {
      "cell_type": "markdown",
      "source": [
        "# **Models**"
      ],
      "metadata": {
        "id": "KqsCTEzCokXB"
      }
    },
    {
      "cell_type": "code",
      "source": [
        "import tensorflow as tf\n",
        "from tensorflow.keras.models import Sequential\n",
        "from tensorflow.keras.layers import Conv2D, MaxPooling2D, Flatten, Dense, Dropout"
      ],
      "metadata": {
        "id": "Some5OMXmhV_"
      },
      "execution_count": 19,
      "outputs": []
    },
    {
      "cell_type": "code",
      "source": [
        "model = Sequential()\n",
        "\n",
        "# Add an explicit Input layer\n",
        "model.add(tf.keras.Input(shape=(224, 224, 3)))\n",
        "\n",
        "# first convolutional layer\n",
        "model.add(Conv2D(32, (3,3), activation='relu'))\n",
        "model.add(MaxPooling2D(pool_size=(2,2)))\n",
        "\n",
        "# second convolutional layer\n",
        "model.add(Conv2D(64, (3,3), activation='relu'))\n",
        "model.add(MaxPooling2D(pool_size=(2,2)))\n",
        "\n",
        "# flatten and fully connected layers\n",
        "model.add(Flatten())\n",
        "model.add(Dense(128, activation='relu'))\n",
        "model.add(Dropout(0.5))\n",
        "model.add(Dense(1, activation='sigmoid'))  # binary classification"
      ],
      "metadata": {
        "id": "HDsxkoYzontA"
      },
      "execution_count": 20,
      "outputs": []
    },
    {
      "cell_type": "code",
      "source": [
        "model.compile(\n",
        "    optimizer='adam',\n",
        "    loss='binary_crossentropy',\n",
        "    metrics=['accuracy']\n",
        ")\n"
      ],
      "metadata": {
        "id": "IZjUTy01oviO"
      },
      "execution_count": 21,
      "outputs": []
    },
    {
      "cell_type": "code",
      "source": [
        "history = model.fit(\n",
        "    train_ds_balanced,\n",
        "    steps_per_epoch=100,\n",
        "    epochs=10,\n",
        "    validation_data=test_ds,\n",
        "    validation_steps=10\n",
        ")\n"
      ],
      "metadata": {
        "colab": {
          "base_uri": "https://localhost:8080/"
        },
        "id": "a-gOhWkDo3Ps",
        "outputId": "ad98c838-d060-431d-aeda-c0c0c529e029"
      },
      "execution_count": 22,
      "outputs": [
        {
          "output_type": "stream",
          "name": "stdout",
          "text": [
            "Epoch 1/10\n",
            "\u001b[1m 14/100\u001b[0m \u001b[32m━━\u001b[0m\u001b[37m━━━━━━━━━━━━━━━━━━\u001b[0m \u001b[1m42s\u001b[0m 496ms/step - accuracy: 0.4807 - loss: 3.7703"
          ]
        },
        {
          "output_type": "stream",
          "name": "stderr",
          "text": [
            "/usr/local/lib/python3.11/dist-packages/keras/src/trainers/epoch_iterator.py:116: UserWarning: Your input ran out of data; interrupting training. Make sure that your dataset or generator can generate at least `steps_per_epoch * epochs` batches. You may need to use the `.repeat()` function when building your dataset.\n",
            "  self._interrupted_warning()\n"
          ]
        },
        {
          "output_type": "stream",
          "name": "stdout",
          "text": [
            "\b\b\b\b\b\b\b\b\b\b\b\b\b\b\b\b\b\b\b\b\b\b\b\b\b\b\b\b\b\b\b\b\b\b\b\b\b\b\b\b\b\b\b\b\b\b\b\b\b\b\b\b\b\b\b\b\b\b\b\b\b\b\b\b\b\b\b\b\b\b\b\b\b\b\b\b\b\r\u001b[1m100/100\u001b[0m \u001b[32m━━━━━━━━━━━━━━━━━━━━\u001b[0m\u001b[37m\u001b[0m \u001b[1m20s\u001b[0m 83ms/step - accuracy: 0.4953 - loss: 2.5174 - val_accuracy: 0.4433 - val_loss: 0.7014\n",
            "Epoch 2/10\n",
            "\u001b[1m100/100\u001b[0m \u001b[32m━━━━━━━━━━━━━━━━━━━━\u001b[0m\u001b[37m\u001b[0m \u001b[1m9s\u001b[0m 48ms/step - accuracy: 0.6204 - loss: 0.6473 - val_accuracy: 0.5258 - val_loss: 0.6828\n",
            "Epoch 3/10\n",
            "\u001b[1m100/100\u001b[0m \u001b[32m━━━━━━━━━━━━━━━━━━━━\u001b[0m\u001b[37m\u001b[0m \u001b[1m5s\u001b[0m 43ms/step - accuracy: 0.6798 - loss: 0.6176 - val_accuracy: 0.5361 - val_loss: 0.7220\n",
            "Epoch 4/10\n",
            "\u001b[1m100/100\u001b[0m \u001b[32m━━━━━━━━━━━━━━━━━━━━\u001b[0m\u001b[37m\u001b[0m \u001b[1m5s\u001b[0m 44ms/step - accuracy: 0.6675 - loss: 0.6020 - val_accuracy: 0.6392 - val_loss: 0.7121\n",
            "Epoch 5/10\n",
            "\u001b[1m100/100\u001b[0m \u001b[32m━━━━━━━━━━━━━━━━━━━━\u001b[0m\u001b[37m\u001b[0m \u001b[1m6s\u001b[0m 50ms/step - accuracy: 0.6903 - loss: 0.6057 - val_accuracy: 0.6598 - val_loss: 0.6785\n",
            "Epoch 6/10\n",
            "\u001b[1m100/100\u001b[0m \u001b[32m━━━━━━━━━━━━━━━━━━━━\u001b[0m\u001b[37m\u001b[0m \u001b[1m5s\u001b[0m 50ms/step - accuracy: 0.6895 - loss: 0.5746 - val_accuracy: 0.6392 - val_loss: 0.6694\n",
            "Epoch 7/10\n",
            "\u001b[1m100/100\u001b[0m \u001b[32m━━━━━━━━━━━━━━━━━━━━\u001b[0m\u001b[37m\u001b[0m \u001b[1m10s\u001b[0m 43ms/step - accuracy: 0.7279 - loss: 0.5676 - val_accuracy: 0.7629 - val_loss: 0.5895\n",
            "Epoch 8/10\n",
            "\u001b[1m100/100\u001b[0m \u001b[32m━━━━━━━━━━━━━━━━━━━━\u001b[0m\u001b[37m\u001b[0m \u001b[1m5s\u001b[0m 47ms/step - accuracy: 0.6556 - loss: 0.6130 - val_accuracy: 0.4433 - val_loss: 1.2832\n",
            "Epoch 9/10\n",
            "\u001b[1m100/100\u001b[0m \u001b[32m━━━━━━━━━━━━━━━━━━━━\u001b[0m\u001b[37m\u001b[0m \u001b[1m5s\u001b[0m 44ms/step - accuracy: 0.6361 - loss: 0.7071 - val_accuracy: 0.6495 - val_loss: 0.6430\n",
            "Epoch 10/10\n",
            "\u001b[1m100/100\u001b[0m \u001b[32m━━━━━━━━━━━━━━━━━━━━\u001b[0m\u001b[37m\u001b[0m \u001b[1m5s\u001b[0m 44ms/step - accuracy: 0.5915 - loss: 0.6568 - val_accuracy: 0.4845 - val_loss: 0.6689\n"
          ]
        }
      ]
    },
    {
      "cell_type": "code",
      "source": [],
      "metadata": {
        "id": "1-YMq4X0pDqq"
      },
      "execution_count": 22,
      "outputs": []
    }
  ]
}